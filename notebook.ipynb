{
  "cells": [
    {
      "cell_type": "markdown",
      "metadata": {
        "id": "Ho5heE18S7gW"
      },
      "source": [
        "# CRC Lab\n",
        "\n",
        "---\n",
        "\n",
        "Let's assume a base-8 number system that can be processed by a base-8 Computer.\n",
        "\n",
        "To represent these base-8 numbers we use the following codes:\n",
        "\n",
        "| **Number** | **Code** |\n",
        "|------------|----------|\n",
        "| 0          | 10000010 |\n",
        "| 1          | 01000100 |\n",
        "| 2          | 01000011 |\n",
        "| 3          | 00101000 |\n",
        "| 4          | 00100101 |\n",
        "| 5          | 00011001 |\n",
        "| 6          | 00010110 |\n",
        "| 7          | 00001111 |\n",
        "\n",
        "*Please note that this coding is very inefficient since it uses n=8 bits, way more than the minimum required (n=3 bits).\n",
        "\n",
        "---\n",
        "\n",
        "Based on these codes, answer the following questions\n"
      ]
    },
    {
      "cell_type": "markdown",
      "metadata": {
        "id": "dLHZft7y-tc5"
      },
      "source": [
        "# Step 0\n",
        "\n",
        "Import the required packages\n",
        "\n",
        "Numpy provides support for large numerical arrays and all the mathematical functions to work with them. Read the [doc](https://numpy.org/doc/stable/)"
      ]
    },
    {
      "cell_type": "code",
      "execution_count": 4,
      "metadata": {
        "id": "t8fOoFDEafZi"
      },
      "outputs": [],
      "source": [
        "import numpy as np"
      ]
    },
    {
      "cell_type": "markdown",
      "metadata": {
        "id": "TMn98uIV_B59"
      },
      "source": [
        "Create the codewords structure.\n",
        "We create it as an array of numpy arrays. Each element of the inner array represents a bit."
      ]
    },
    {
      "cell_type": "code",
      "execution_count": 5,
      "metadata": {
        "id": "IhZMhEudS9Iv"
      },
      "outputs": [],
      "source": [
        "codewords = [\n",
        "    np.array([1,0,0,0,0,0,1,0],dtype=np.uint8), #assign the values and select the integer type\n",
        "    np.array([0,1,0,0,0,1,0,0],dtype=np.uint8),\n",
        "    np.array([0,1,0,0,0,0,1,1],dtype=np.uint8),\n",
        "    np.array([0,0,1,0,1,0,0,0],dtype=np.uint8),\n",
        "    np.array([0,0,1,0,0,1,0,1],dtype=np.uint8),\n",
        "    np.array([0,0,0,1,1,0,0,1],dtype=np.uint8),\n",
        "    np.array([0,0,0,1,0,1,1,0],dtype=np.uint8),\n",
        "    np.array([0,0,0,0,1,1,1,1],dtype=np.uint8)\n",
        "]"
      ]
    },
    {
      "cell_type": "markdown",
      "metadata": {
        "id": "BG25YvuDEG7d"
      },
      "source": [
        "\n",
        "Next we illustrate some basic operations in Python\n",
        "\n"
      ]
    },
    {
      "cell_type": "code",
      "execution_count": 6,
      "metadata": {
        "colab": {
          "base_uri": "https://localhost:8080/"
        },
        "id": "o3UFqewXGBY7",
        "outputId": "f7af6101-f7c2-4c3d-f994-a6638a0b9b31"
      },
      "outputs": [
        {
          "name": "stdout",
          "output_type": "stream",
          "text": [
            "Codeword [1 0 0 0 0 0 1 0] is 8 bits long\n"
          ]
        }
      ],
      "source": [
        "codeword = codewords[0] # assign to the variable codeword the codeword associated to 0\n",
        "\n",
        "n = len(codeword) #len() returns the length of the string\n",
        "print(f'Codeword {codeword} is {n} bits long')\n"
      ]
    },
    {
      "cell_type": "code",
      "execution_count": 7,
      "metadata": {
        "colab": {
          "base_uri": "https://localhost:8080/"
        },
        "id": "c-OImNnQGBa0",
        "outputId": "7c96b0ed-28ac-47da-a1ef-a0ea7e624cd8"
      },
      "outputs": [
        {
          "name": "stdout",
          "output_type": "stream",
          "text": [
            "Element 0 in codeword [1 0 0 0 0 0 1 0] is 1\n",
            "Element 1 in codeword [1 0 0 0 0 0 1 0] is 0\n",
            "Element 2 in codeword [1 0 0 0 0 0 1 0] is 0\n",
            "Element 3 in codeword [1 0 0 0 0 0 1 0] is 0\n",
            "Element 4 in codeword [1 0 0 0 0 0 1 0] is 0\n",
            "Element 5 in codeword [1 0 0 0 0 0 1 0] is 0\n",
            "Element 6 in codeword [1 0 0 0 0 0 1 0] is 1\n",
            "Element 7 in codeword [1 0 0 0 0 0 1 0] is 0\n"
          ]
        }
      ],
      "source": [
        "for i in range(len(codeword)): #range creates an array of a given length (in this case len(codewords)). The first element is numbered as 0.\n",
        "  print(f'Element {i} in codeword {codeword} is {codeword[i]}') #access element as in an array"
      ]
    },
    {
      "cell_type": "code",
      "execution_count": 8,
      "metadata": {
        "colab": {
          "base_uri": "https://localhost:8080/"
        },
        "id": "LBlFKYKMGBqh",
        "outputId": "3e4e39f6-2692-4e25-d9dc-8edbe679c3d3"
      },
      "outputs": [
        {
          "name": "stdout",
          "output_type": "stream",
          "text": [
            "Element 0 in codeword [1 0 0 0 0 0 1 0] is not 0\n",
            "Element 1 in codeword [1 0 0 0 0 0 1 0] is 0\n",
            "Element 2 in codeword [1 0 0 0 0 0 1 0] is 0\n",
            "Element 3 in codeword [1 0 0 0 0 0 1 0] is 0\n",
            "Element 4 in codeword [1 0 0 0 0 0 1 0] is 0\n",
            "Element 5 in codeword [1 0 0 0 0 0 1 0] is 0\n",
            "Element 6 in codeword [1 0 0 0 0 0 1 0] is not 0\n",
            "Element 7 in codeword [1 0 0 0 0 0 1 0] is 0\n"
          ]
        }
      ],
      "source": [
        "for i in range(len(codeword)):\n",
        "  if (codeword[i]==0): #check if the i-th element is a 0\n",
        "    print(f'Element {i} in codeword {codeword} is 0')\n",
        "  else:\n",
        "    print(f'Element {i} in codeword {codeword} is not 0')"
      ]
    },
    {
      "cell_type": "code",
      "execution_count": 9,
      "metadata": {
        "colab": {
          "base_uri": "https://localhost:8080/"
        },
        "id": "sUp9abUUGO1C",
        "outputId": "e9c0fdc8-ae7d-42fe-a4f2-de9ff873d143"
      },
      "outputs": [
        {
          "name": "stdout",
          "output_type": "stream",
          "text": [
            "Element 0 in codeword [1 0 0 0 0 0 1 0] is not 0\n",
            "Element 1 in codeword [1 0 0 0 0 0 1 0] is 0\n",
            "Element 2 in codeword [1 0 0 0 0 0 1 0] is 0\n",
            "Element 3 in codeword [1 0 0 0 0 0 1 0] is 0\n",
            "Element 4 in codeword [1 0 0 0 0 0 1 0] is 0\n",
            "Element 5 in codeword [1 0 0 0 0 0 1 0] is 0\n",
            "Element 6 in codeword [1 0 0 0 0 0 1 0] is not 0\n",
            "Element 7 in codeword [1 0 0 0 0 0 1 0] is 0\n"
          ]
        }
      ],
      "source": [
        "for i in range(len(codeword)):\n",
        "  if (codeword[i]!=0): #check if the i-th element was not a 0\n",
        "    print(f'Element {i} in codeword {codeword} is not 0')\n",
        "  else:\n",
        "    print(f'Element {i} in codeword {codeword} is 0')"
      ]
    },
    {
      "cell_type": "code",
      "execution_count": 10,
      "metadata": {
        "colab": {
          "base_uri": "https://localhost:8080/"
        },
        "id": "3FN2xd6tGXse",
        "outputId": "4bebb371-0131-4862-87e5-c2af9379feac"
      },
      "outputs": [
        {
          "name": "stdout",
          "output_type": "stream",
          "text": [
            "The 1s count in codeword [1 0 0 0 0 0 1 0] is 2\n"
          ]
        }
      ],
      "source": [
        "counter = 0 #count the number of 1s in the codeword\n",
        "for i in range(len(codeword)):\n",
        "  if (codeword[i]==1): #sum 1 if the position i is equal to 1\n",
        "    counter+=1\n",
        "print(f'The 1s count in codeword {codeword} is {counter}')"
      ]
    },
    {
      "cell_type": "code",
      "execution_count": 11,
      "metadata": {
        "colab": {
          "base_uri": "https://localhost:8080/"
        },
        "id": "hGB_9H65QHDP",
        "outputId": "9c8e2daf-619f-4645-c552-ddcb753a3323"
      },
      "outputs": [
        {
          "name": "stdout",
          "output_type": "stream",
          "text": [
            "The 1s count in codeword [1 0 0 0 0 0 1 0] is 2\n"
          ]
        }
      ],
      "source": [
        "def count_ones(a): #create a function that counts 1s in the codeword\n",
        "  counter = 0 #count the number of 1s in the codeword\n",
        "  for i in range(len(a)):\n",
        "    if (a[i]==1): #sum 1 if the position i is equal to 1\n",
        "      counter+=1\n",
        "  return counter\n",
        "\n",
        "ones = count_ones(codeword)\n",
        "print(f'The 1s count in codeword {codeword} is {ones}')"
      ]
    },
    {
      "cell_type": "markdown",
      "metadata": {
        "id": "nE1cYGnr_UEx"
      },
      "source": [
        "# Step 1: Hamming distance\n",
        "\n",
        "*   What is the minimum Hamming Distance $D$ of the codewords set?\n",
        "\n",
        "Create a function to compute it. Fill the following method\n",
        "\n",
        "```\n",
        "def hamming_distance(a,b)\n",
        "```\n",
        "\n",
        "that computes the distance between two codewords 'a' and 'b'. Note that in Python a string is an array of characters.\n",
        "\n"
      ]
    },
    {
      "cell_type": "code",
      "execution_count": 12,
      "metadata": {
        "colab": {
          "base_uri": "https://localhost:8080/"
        },
        "id": "2BHF8LoyTx46",
        "outputId": "424b99f4-716e-4cc8-ef2f-39872ae1fc7d"
      },
      "outputs": [
        {
          "name": "stdout",
          "output_type": "stream",
          "text": [
            "The mninimum Hamming Distance is 3\n"
          ]
        }
      ],
      "source": [
        "def hamming_distance(a,b):\n",
        "  if len(a)!=len(b): raise ValueError('The two codewords must have the same length')\n",
        "  #sum of: true for every bit that's different, false otherwise\n",
        "  return sum([a[i] != b[i] for i in range(len(a))])\n",
        "\n",
        "\n",
        "\n",
        "best_D = 8 #Hamming Distsance cannot be greater than the size of the codeword\n",
        "for i in range(8): # i goes from 0 to 7\n",
        "  for j in range(8): # j goes from 0 to 7\n",
        "    if (i!=j): #compute Hamming Distance only for different codewords\n",
        "      D = hamming_distance(codewords[i],codewords[j])\n",
        "      if (D<best_D):\n",
        "        best_D=D\n",
        "\n",
        "print(f'The mninimum Hamming Distance is {best_D}')"
      ]
    },
    {
      "cell_type": "markdown",
      "metadata": {
        "id": "X2aLbhlFIP2N"
      },
      "source": [
        "\n",
        "\n",
        "1.   What is the maximum number of bit errors that can be **detected**?\n",
        "2.   What is the maximum number of bit errors that can be **corrected**?\n",
        "\n",
        "Explain why\n",
        "\n"
      ]
    },
    {
      "cell_type": "markdown",
      "metadata": {
        "id": "4MAwKKQxIP4y"
      },
      "source": [
        "# Step 2 Error Detection & Error Correction\n",
        "\n",
        "Using the codewords above, implement a function\n",
        "\n",
        "```\n",
        "check_and_correct(w)\n",
        "```\n",
        "\n",
        "That returns two variables:\n",
        "```\n",
        "error #True if an error was detected, False otherwise\n",
        "recover #contains the recovered codeword (if the number of errors allowed), None otherwise\n",
        "```\n",
        "\n",
        "Check it with the following words\n",
        "\n",
        "* 00011001\n",
        "* 11101000\n",
        "* 00010001\n",
        "* 11100000\n",
        "* 00010100\n",
        "\n",
        "Before, some propaedeutic example:\n",
        "\n"
      ]
    },
    {
      "cell_type": "code",
      "execution_count": 13,
      "metadata": {
        "colab": {
          "base_uri": "https://localhost:8080/"
        },
        "id": "iS_NAj8EQnHv",
        "outputId": "8e21dcee-04f7-4762-e5dc-d0377619c2bf"
      },
      "outputs": [
        {
          "name": "stdout",
          "output_type": "stream",
          "text": [
            "Codeword [0 0 0 1 1 0 1 1] has at least a 1, at position 3\n",
            "Codeword [0 0 0 0 0 0 0 0] is all 0s\n"
          ]
        }
      ],
      "source": [
        "def check_if_has_zero_pos(a): #checks if there is at least one element in a equal to 1 and return the first position, None otherwise\n",
        "  pos=None\n",
        "  for i in range(len(a)):\n",
        "    if a[i]==1:\n",
        "      pos=i\n",
        "      return True,pos\n",
        "  else:\n",
        "      return False,pos\n",
        "\n",
        "codeword = np.array([0,0,0,1,1,0,1,1],dtype=np.uint8)\n",
        "res,pos = check_if_has_zero_pos(codeword)\n",
        "if res:\n",
        "  print(f'Codeword {codeword} has at least a 1, at position {pos}')\n",
        "else:\n",
        "  print(f'Codeword {codeword} is all 0s')\n",
        "\n",
        "codeword =np.array([0,0,0,0,0,0,0,0],dtype=np.uint8)\n",
        "res,pos = check_if_has_zero_pos(codeword)\n",
        "if res:\n",
        "  print(f'Codeword {codeword} has at least a 1, at position {pos}')\n",
        "else:\n",
        "  print(f'Codeword {codeword} is all 0s')"
      ]
    },
    {
      "cell_type": "code",
      "execution_count": 14,
      "metadata": {
        "colab": {
          "base_uri": "https://localhost:8080/"
        },
        "id": "6puHdiAodJ6s",
        "outputId": "f11dfd6c-0444-4ef8-a0ff-a02edf46081f"
      },
      "outputs": [
        {
          "name": "stdout",
          "output_type": "stream",
          "text": [
            "Codeword [0 0 0 1 1 0 0 1] is correct\n",
            "Codeword [1 1 1 0 1 0 0 0] is not correct and it is not recoverable\n",
            "Codeword [0 0 0 1 0 0 0 1] is not correct but it is recovered to [0 0 0 1 1 0 0 1]\n",
            "Codeword [1 1 1 0 0 0 0 0] is not correct and it is not recoverable\n",
            "Codeword [0 0 0 1 0 1 0 0] is not correct but it is recovered to [0 0 0 1 0 1 1 0]\n"
          ]
        }
      ],
      "source": [
        "#making use of functions and values obtained above\n",
        "def check_and_correct(w):\n",
        "    for codeword in codewords:\n",
        "        d = hamming_distance(w,codeword)\n",
        "        if d<=(best_D-1)//2: return d>0, codeword\n",
        "    return True, None\n",
        "\n",
        "\n",
        "test_words = [\n",
        "    np.array([0,0,0,1,1,0,0,1],dtype=np.uint8),\n",
        "    np.array([1,1,1,0,1,0,0,0],dtype=np.uint8),\n",
        "    np.array([0,0,0,1,0,0,0,1],dtype=np.uint8),\n",
        "    np.array([1,1,1,0,0,0,0,0],dtype=np.uint8),\n",
        "    np.array([0,0,0,1,0,1,0,0],dtype=np.uint8)\n",
        "]\n",
        "\n",
        "for codeword in test_words:\n",
        "    err, recover = check_and_correct(codeword)\n",
        "    if err==False:\n",
        "        print(f'Codeword {codeword} is correct')\n",
        "    elif recover is not None:\n",
        "        print(f'Codeword {codeword} is not correct but it is recovered to {recover}')\n",
        "    else:\n",
        "        print(f'Codeword {codeword} is not correct and it is not recoverable')\n"
      ]
    },
    {
      "cell_type": "markdown",
      "metadata": {
        "id": "RLvWo1RI6v2c"
      },
      "source": [
        "# Step 3 Rectangular Parity\n",
        "\n",
        "In the previous example all the codewords were known *a priori* and had a very low efficiency (8bits to represent a word that could have been represented with 3). A more efficent error correction scheme is the rectangular parity, that works as follows:\n",
        "\n",
        "*   Arrange the bits in the word that has to be sent in a rectangular form.\n",
        "\n",
        "```\n",
        "+---------------------+\n",
        "| b00 b01 b02 b03 pr0 |\n",
        "| b10 b11 b12 b13 pr1 |\n",
        "| pc0 pc1 pc2 pc3     |\n",
        "+---------------------+\n",
        "```\n",
        "\n",
        "``` b00 ``` , ``` b01 ``` , ... ``` b13 ``` are the 8 bits in the word\n",
        "\n",
        "and compute\n",
        "\n",
        "``` pr0 ``` , ``` pr1 ``` the parity bits computed for each row\n",
        "\n",
        "``` pc0 ``` , ``` pc1 ``` , ... ``` pc3 ``` the parity bits computed for each column\n",
        "\n",
        "Remember that parity bits are either 0 or 1 that makes the count of 1s in each sequence (row or column) even.\n",
        "\n",
        "*  Send the data\n",
        "\n",
        "```\n",
        "+---------------------------------------------------------+\n",
        "| b00 b01 b02 b03 b10 b11 b12 b13 pr0 pr1 pc0 pc1 pc2 pc3 |\n",
        "+---------------------------------------------------------+\n",
        "```\n",
        "\n",
        "Below you can find the code to compute the rectangular parity\n",
        "\n",
        "\n",
        "\n"
      ]
    },
    {
      "cell_type": "code",
      "execution_count": 15,
      "metadata": {
        "id": "9KbqG84omKmv"
      },
      "outputs": [],
      "source": [
        "def compute_rect_parity(w):\n",
        "  a = w.reshape(2,4) #create an array 2x4 from the 1x8 original array (see https://numpy.org/doc/stable/reference/generated/numpy.reshape.html)\n",
        "  #compute parity bits by summing ones on the rows/columns and taking the modulo 2\n",
        "  # if the sum is odd, then modulo 2 is 1 and the parity will make the sequence even\n",
        "  # if the sum is even, the modulo 2 is 0 and the sequence will be kept even\n",
        "  col_parity = np.mod(np.sum(a,axis=0),2) #summing on the col axis https://numpy.org/doc/stable/reference/generated/numpy.sum.html\n",
        "  row_parity = np.mod(np.sum(a,axis=1),2) #summing on the row axis\n",
        "  #creating the final codeword\n",
        "  codeword = np.zeros(14,dtype=np.uint8)\n",
        "  codeword[:8]=a.flatten() #put it back to 1x8\n",
        "  codeword[8:10]=row_parity\n",
        "  codeword[10:]=col_parity\n",
        "  return codeword"
      ]
    },
    {
      "cell_type": "markdown",
      "metadata": {
        "id": "q_rhPzCuBLma"
      },
      "source": [
        "*   How many error bits we can detect? And how many bits we can correct?\n",
        "\n",
        "Motivate your answers, with and without using the Hamming Distance calculator, available in the following cell\n",
        "\n",
        "*   Why this method is more efficient?\n",
        "\n"
      ]
    },
    {
      "cell_type": "code",
      "execution_count": 16,
      "metadata": {
        "colab": {
          "base_uri": "https://localhost:8080/"
        },
        "id": "_KY3FD4CBtfA",
        "outputId": "0bb9e8f0-4e31-4f1d-a3c4-f206e8928d06"
      },
      "outputs": [
        {
          "name": "stdout",
          "output_type": "stream",
          "text": [
            "The minimum Hamming Distance is 3\n"
          ]
        }
      ],
      "source": [
        "rect_parity_codewords = [] #initialize empty array\n",
        "\n",
        "for i in range(256): #with 8 bits we can represents numbers from 0 to 255\n",
        "  codeword = np.unpackbits(np.array([i],dtype=np.uint8)) # this functions create an array of 8 bits from the number i https://numpy.org/doc/stable/reference/generated/numpy.unpackbits.html\n",
        "  rect_parity_codeword = compute_rect_parity(codeword) #compute the rect parity codeword\n",
        "  rect_parity_codewords.append(rect_parity_codeword)\n",
        "\n",
        "best_D = 14 #Hamming Distance cannot be greater than the size of the codeword\n",
        "for i in range(256):\n",
        "  for j in range(256):\n",
        "    if (i!=j): #compute Hamming Distance only for different codewords\n",
        "      D = hamming_distance(rect_parity_codewords[i],rect_parity_codewords[j])\n",
        "      if (D<best_D):\n",
        "        best_D=D\n",
        "\n",
        "print(f'The minimum Hamming Distance is {best_D}')\n"
      ]
    },
    {
      "cell_type": "markdown",
      "metadata": {
        "id": "D-fQvgouDc0U"
      },
      "source": [
        "\n",
        "Implement the function\n",
        "\n",
        "```\n",
        "check_and_correct_rectangular(w)\n",
        "```\n",
        "\n",
        "That returns two variables:\n",
        "```\n",
        "error #True if an error was detected, False otherwise\n",
        "recover #contains the recovered codeword (if the number of errors allowed), None otherwise\n",
        "```"
      ]
    },
    {
      "cell_type": "code",
      "execution_count": 17,
      "metadata": {
        "id": "RIbEbFEHDmdM"
      },
      "outputs": [],
      "source": [
        "def check_and_correct_rectangular(w):\n",
        "    a = w[:8].reshape(2,4)\n",
        "    row_p, col_p = w[8:10], w[10:]\n",
        "    row_check, col_check = np.mod(np.sum(a,axis=1),2), np.mod(np.sum(a,axis=0),2)\n",
        "    row_wrongs = [i for i in range(len(row_p)) if row_p[i]!=row_check[i]]\n",
        "    col_wrongs = [i for i in range(len(col_p)) if col_p[i]!=col_check[i]]\n",
        "    if len(row_wrongs)==0 and len(col_wrongs)==0: # No error\n",
        "        return False, None\n",
        "    elif len(row_wrongs)==1 and len(col_wrongs)==1: # Assume single-bit error in the data\n",
        "        a[row_wrongs[0], col_wrongs[0]] = 1-a[row_wrongs[0], col_wrongs[0]]\n",
        "    elif len(row_wrongs) + len(col_wrongs)==1: # Assume single-bit error in the parity bit\n",
        "        pass\n",
        "    else:\n",
        "        return True, None\n",
        "    return True, a.flatten()\n"
      ]
    },
    {
      "cell_type": "markdown",
      "metadata": {
        "id": "ejL4E1miILXE"
      },
      "source": [
        "Test it with the following code"
      ]
    },
    {
      "cell_type": "code",
      "execution_count": 90,
      "metadata": {
        "colab": {
          "base_uri": "https://localhost:8080/"
        },
        "id": "udxAYu9_INqE",
        "outputId": "6b496a5c-af7b-4b72-8e83-c082d1579ac1"
      },
      "outputs": [
        {
          "name": "stdout",
          "output_type": "stream",
          "text": [
            "Codeword [0 1 1 0 1 0 1 1 0 1 1 1 0 1] is correct (Original: [0 1 1 0 1 0 1 1])\n",
            "Codeword [0 1 1 1 1 1 1 1 1 0 1 0 0 0] is not correct but it is recovered to [0 1 1 1 1 1 1 1] (Original: [0 1 1 1 1 1 1 1])\n",
            "Codeword [1 1 1 0 1 1 0 1 0 1 1 0 0 1] is not correct and it is not recoverable (Original: [1 1 0 0 1 1 0 1])\n",
            "Codeword [0 0 0 0 0 0 1 0 0 0 1 0 1 1] is not correct and it is not recoverable (Original: [0 0 0 0 1 0 1 1])\n"
          ]
        }
      ],
      "source": [
        "def create_errors(word,number_of_errors):\n",
        "  error_positions = np.random.choice(14,number_of_errors,replace=False) #select the positions of the error randomly\n",
        "  for p in error_positions:\n",
        "    word[p]=np.logical_not(word[p]).astype(np.uint8)\n",
        "  return word\n",
        "\n",
        "for number_of_errors in [0,1,2,3]:\n",
        "  random_number = np.random.randint(256)\n",
        "  original_word = np.unpackbits(np.array([random_number],dtype=np.uint8))\n",
        "  selected_codeword = compute_rect_parity(original_word)\n",
        "  actual_word = create_errors(selected_codeword,number_of_errors)\n",
        "  error,recover = check_and_correct_rectangular(actual_word)\n",
        "  if error==False:\n",
        "    print(f'Codeword {actual_word} is correct (Original: {original_word})')\n",
        "  elif recover is not None:\n",
        "    print(f'Codeword {actual_word} is not correct but it is recovered to {recover} (Original: {original_word})')\n",
        "  else:\n",
        "    print(f'Codeword {actual_word} is not correct and it is not recoverable (Original: {original_word})')\n",
        "\n"
      ]
    },
    {
      "cell_type": "markdown",
      "metadata": {
        "id": "WOcfe9y5gAv_"
      },
      "source": [
        "# Step 4: CRC\n",
        "\n",
        "CRC is a powerful way of computing error control, as it can detect errors happening according to different patterns."
      ]
    },
    {
      "cell_type": "code",
      "execution_count": 107,
      "metadata": {
        "id": "f-cmPWhrJcGD"
      },
      "outputs": [],
      "source": [
        "def compute_crc(word,poly):\n",
        "  n = len(word)\n",
        "  m = len(poly)\n",
        "  k = m-1\n",
        "  out_word = np.zeros(n+k,dtype=np.uint8)\n",
        "  out_word[:n]=word\n",
        "  # Loop over every message bit (minus the appended code)\n",
        "  for i in range(n):\n",
        "    if out_word[i]==1:\n",
        "      for j in range(m):\n",
        "        # Perform modulo 2 multiplication on each index of the divisor\n",
        "        out_word[i+j] = np.mod(out_word[i+j]+poly[j],2)\n",
        "  return out_word[-k:]\n",
        "\n",
        "def check_crc(word,poly,remainder_mode=False):\n",
        "  w = word.copy()\n",
        "  m = len(poly)\n",
        "  k = m-1\n",
        "  n = len(word)-k\n",
        "  # Loop over every message bit (minus the appended code)\n",
        "  for i in range(n):\n",
        "    if w[i]==1:\n",
        "      for j in range(m):\n",
        "        # Perform modulo 2 multiplication on each index of the divisor\n",
        "        w[i+j] = np.mod(w[i+j]+poly[j],2)\n",
        "  remainder = np.sum(w[-k:])\n",
        "  if remainder_mode: return remainder\n",
        "  if remainder==0: return True\n",
        "  else: return False\n"
      ]
    },
    {
      "cell_type": "code",
      "execution_count": 108,
      "metadata": {
        "colab": {
          "base_uri": "https://localhost:8080/"
        },
        "id": "86zF-47xOcTl",
        "outputId": "0a7b630a-e3e5-4cff-dc2b-1f96c631e666"
      },
      "outputs": [
        {
          "name": "stdout",
          "output_type": "stream",
          "text": [
            "[1 0 1 0 1 1 1 0]\n"
          ]
        }
      ],
      "source": [
        "poly = np.array([1,1,1,0,1,0,1,0,1],dtype=np.uint8)\n",
        "word = np.array([0,0,0,1,0,0,1,0,0,0,1,1,0,1,0,0],dtype=np.uint8)\n",
        "\n",
        "code = compute_crc(word, poly)\n",
        "word_crc = np.concatenate([word,code])\n",
        "\n",
        "print(code)"
      ]
    },
    {
      "cell_type": "markdown",
      "metadata": {
        "id": "xO9zdbOeRkdv"
      },
      "source": [
        "Compute the 4 bit CRC for the work 101001101001 and the generator 11101.\n",
        "\n",
        "\n",
        "*   What codeword is finally sent?\n",
        "*   Introduce a bit error (bit flip) on the bits 1,5,6,7,and 10 (from the left). Is the error detected by CRC? What is the remainder?\n",
        "\n"
      ]
    },
    {
      "cell_type": "code",
      "execution_count": 110,
      "metadata": {},
      "outputs": [
        {
          "name": "stdout",
          "output_type": "stream",
          "text": [
            "The final word is [1 0 1 0 0 1 1 0 1 0 0 1 1 1 0 0]. It is correct.\n",
            "The remainder is 0.\n"
          ]
        }
      ],
      "source": [
        "poly = np.array([1,1,1,0,1],dtype=np.uint8)\n",
        "word = np.array([1,0,1,0,0,1,1,0,1,0,0,1],dtype=np.uint8)\n",
        "\n",
        "code = compute_crc(word, poly)\n",
        "word_crc = np.concatenate([word,code])\n",
        "\n",
        "print(f\"The final word is {word_crc}. It is {'' if check_crc(word_crc, poly) else 'not '}correct.\")\n",
        "print(f\"The remainder is {check_crc(word_crc, poly, True)}.\")"
      ]
    },
    {
      "cell_type": "code",
      "execution_count": 112,
      "metadata": {},
      "outputs": [
        {
          "name": "stdout",
          "output_type": "stream",
          "text": [
            "The final word is [0 0 1 0 1 0 0 0 1 1 0 1 1 1 0 0]. It is not correct.\n",
            "The remainder is 3.\n"
          ]
        }
      ],
      "source": [
        "word_error = word_crc.copy()\n",
        "for i in [1,5,6,7,10]:\n",
        "    word_error[i-1] = 1-word_error[i-1]\n",
        "\n",
        "print(f\"The final word is {word_error}. It is {'' if check_crc(word_error, poly) else 'not '}correct.\")\n",
        "print(f\"The remainder is {check_crc(word_error, poly, True)}.\")"
      ]
    }
  ],
  "metadata": {
    "colab": {
      "provenance": []
    },
    "kernelspec": {
      "display_name": "Python 3",
      "name": "python3"
    },
    "language_info": {
      "codemirror_mode": {
        "name": "ipython",
        "version": 3
      },
      "file_extension": ".py",
      "mimetype": "text/x-python",
      "name": "python",
      "nbconvert_exporter": "python",
      "pygments_lexer": "ipython3",
      "version": "3.10.10"
    }
  },
  "nbformat": 4,
  "nbformat_minor": 0
}
